{
 "cells": [
  {
   "cell_type": "code",
   "execution_count": 32,
   "id": "c574e899",
   "metadata": {},
   "outputs": [
    {
     "name": "stdout",
     "output_type": "stream",
     "text": [
      "Done\n"
     ]
    }
   ],
   "source": [
    "import pandas as pd\n",
    "from textblob import TextBlob   \n",
    "import re\n",
    "import matplotlib.pyplot as plt\n",
    "import string\n",
    "from nltk.corpus import stopwords\n",
    "import nltk\n",
    "from nltk.corpus import wordnet\n",
    "from nltk.stem import WordNetLemmatizer\n",
    "from nltk.tokenize.treebank import TreebankWordDetokenizer\n",
    "from collections import Counter\n",
    "from wordcloud import WordCloud\n",
    "from nltk.corpus import stopwords\n",
    "import nltk\n",
    "from nltk.corpus import stopwords\n",
    "import gensim\n",
    "from gensim.utils import simple_preprocess\n",
    "from sklearn.model_selection import train_test_split\n",
    "#import spacy\n",
    "import pickle\n",
    "import warnings\n",
    "warnings.filterwarnings('ignore')\n",
    "import seaborn as sns\n",
    "from sklearn.metrics import confusion_matrix\n",
    "import matplotlib.pyplot as plt \n",
    "#import tensorflow as tf\n",
    "#import keras\n",
    "import numpy as np\n",
    "import pandas as pd\n",
    "import tensorflow as tf\n",
    "import keras\n",
    "print('Done')"
   ]
  },
  {
   "cell_type": "code",
   "execution_count": null,
   "id": "66f1fdce",
   "metadata": {},
   "outputs": [],
   "source": [
    "\n"
   ]
  },
  {
   "cell_type": "code",
   "execution_count": 11,
   "id": "50214ffa",
   "metadata": {},
   "outputs": [],
   "source": [
    "dfn = pd.read_csv(\"nikol.csv\")"
   ]
  },
  {
   "cell_type": "code",
   "execution_count": 12,
   "id": "c687a74c",
   "metadata": {},
   "outputs": [],
   "source": [
    "dfn.dropna()\n",
    "dfn['Tweets'] = dfn['Tweets'].str.replace('https', '')\n",
    "\n",
    "dfn['polarity'] = dfn['Tweets'].apply(lambda x: TextBlob(x).polarity)\n",
    "\n",
    "label = []\n",
    "for pol in dfn['polarity']:\n",
    "    if 0 < pol <= 1.0 :    label.append('positive')\n",
    "    elif -1.0 <= pol < 0:   label.append('negative')\n",
    "    elif pol == 0:  label.append('neutral')\n",
    "        \n",
    "        \n",
    "dfn['label'] = label"
   ]
  },
  {
   "cell_type": "code",
   "execution_count": 13,
   "id": "d26c1167",
   "metadata": {},
   "outputs": [],
   "source": [
    "dfe = pd.read_csv('marukyan.csv')\n",
    "dfe.dropna()\n",
    "dfe['Tweets'] = dfe['Tweets'].str.replace('https', '')\n",
    "\n",
    "dfe['polarity'] = dfe['Tweets'].apply(lambda x: TextBlob(x).polarity)\n",
    "\n",
    "label = []\n",
    "for pol in dfe['polarity']:\n",
    "    if 0 < pol <= 1.0 :    label.append('positive')\n",
    "    elif -1.0 <= pol < 0:   label.append('negative')\n",
    "    elif pol == 0:  label.append('neutral')\n",
    "        \n",
    "        \n",
    "dfe['label'] = label"
   ]
  },
  {
   "cell_type": "code",
   "execution_count": 14,
   "id": "a17c2b0f",
   "metadata": {},
   "outputs": [],
   "source": [
    "dfa = pd.read_csv('mirzoyan.csv')\n",
    "dfa.dropna()\n",
    "dfa['Tweets'] = dfa['Tweets'].str.replace('https', '')\n",
    "\n",
    "dfa['polarity'] = dfa['Tweets'].apply(lambda x: TextBlob(x).polarity)\n",
    "\n",
    "label = []\n",
    "for pol in dfa['polarity']:\n",
    "    if 0 < pol <= 1.0 :    label.append('positive')\n",
    "    elif -1.0 <= pol < 0:   label.append('negative')\n",
    "    elif pol == 0:  label.append('neutral')\n",
    "        \n",
    "        \n",
    "dfa['label'] = label"
   ]
  },
  {
   "cell_type": "code",
   "execution_count": 15,
   "id": "eb941292",
   "metadata": {},
   "outputs": [],
   "source": [
    "all = pd.concat([dfn, dfe,dfa])"
   ]
  },
  {
   "cell_type": "code",
   "execution_count": 16,
   "id": "eeb2d0d6",
   "metadata": {},
   "outputs": [],
   "source": [
    "from sklearn.model_selection import train_test_split\n",
    "\n",
    "train, test = train_test_split(all, test_size=0.2)"
   ]
  },
  {
   "cell_type": "code",
   "execution_count": 17,
   "id": "cff4146b",
   "metadata": {},
   "outputs": [
    {
     "data": {
      "text/plain": [
       "array(['neutral', 'positive', 'negative'], dtype=object)"
      ]
     },
     "execution_count": 17,
     "metadata": {},
     "output_type": "execute_result"
    }
   ],
   "source": [
    "train['label'].unique()"
   ]
  },
  {
   "cell_type": "code",
   "execution_count": 18,
   "id": "1f7bfb0d",
   "metadata": {},
   "outputs": [
    {
     "data": {
      "text/html": [
       "<div>\n",
       "<style scoped>\n",
       "    .dataframe tbody tr th:only-of-type {\n",
       "        vertical-align: middle;\n",
       "    }\n",
       "\n",
       "    .dataframe tbody tr th {\n",
       "        vertical-align: top;\n",
       "    }\n",
       "\n",
       "    .dataframe thead th {\n",
       "        text-align: right;\n",
       "    }\n",
       "</style>\n",
       "<table border=\"1\" class=\"dataframe\">\n",
       "  <thead>\n",
       "    <tr style=\"text-align: right;\">\n",
       "      <th></th>\n",
       "      <th>Date Created</th>\n",
       "      <th>Number of Likes</th>\n",
       "      <th>Source of Tweet</th>\n",
       "      <th>Tweets</th>\n",
       "      <th>polarity</th>\n",
       "      <th>label</th>\n",
       "    </tr>\n",
       "    <tr>\n",
       "      <th>label</th>\n",
       "      <th></th>\n",
       "      <th></th>\n",
       "      <th></th>\n",
       "      <th></th>\n",
       "      <th></th>\n",
       "      <th></th>\n",
       "    </tr>\n",
       "  </thead>\n",
       "  <tbody>\n",
       "    <tr>\n",
       "      <th>negative</th>\n",
       "      <td>236</td>\n",
       "      <td>131</td>\n",
       "      <td>4</td>\n",
       "      <td>239</td>\n",
       "      <td>113</td>\n",
       "      <td>1</td>\n",
       "    </tr>\n",
       "    <tr>\n",
       "      <th>neutral</th>\n",
       "      <td>1131</td>\n",
       "      <td>264</td>\n",
       "      <td>4</td>\n",
       "      <td>1209</td>\n",
       "      <td>1</td>\n",
       "      <td>1</td>\n",
       "    </tr>\n",
       "    <tr>\n",
       "      <th>positive</th>\n",
       "      <td>692</td>\n",
       "      <td>291</td>\n",
       "      <td>4</td>\n",
       "      <td>711</td>\n",
       "      <td>312</td>\n",
       "      <td>1</td>\n",
       "    </tr>\n",
       "  </tbody>\n",
       "</table>\n",
       "</div>"
      ],
      "text/plain": [
       "          Date Created  Number of Likes  Source of Tweet  Tweets  polarity  \\\n",
       "label                                                                        \n",
       "negative           236              131                4     239       113   \n",
       "neutral           1131              264                4    1209         1   \n",
       "positive           692              291                4     711       312   \n",
       "\n",
       "          label  \n",
       "label            \n",
       "negative      1  \n",
       "neutral       1  \n",
       "positive      1  "
      ]
     },
     "execution_count": 18,
     "metadata": {},
     "output_type": "execute_result"
    }
   ],
   "source": [
    "train.groupby('label').nunique()"
   ]
  },
  {
   "cell_type": "code",
   "execution_count": 19,
   "id": "1c24b5f0",
   "metadata": {},
   "outputs": [
    {
     "data": {
      "text/html": [
       "<div>\n",
       "<style scoped>\n",
       "    .dataframe tbody tr th:only-of-type {\n",
       "        vertical-align: middle;\n",
       "    }\n",
       "\n",
       "    .dataframe tbody tr th {\n",
       "        vertical-align: top;\n",
       "    }\n",
       "\n",
       "    .dataframe thead th {\n",
       "        text-align: right;\n",
       "    }\n",
       "</style>\n",
       "<table border=\"1\" class=\"dataframe\">\n",
       "  <thead>\n",
       "    <tr style=\"text-align: right;\">\n",
       "      <th></th>\n",
       "      <th>Tweets</th>\n",
       "      <th>label</th>\n",
       "    </tr>\n",
       "  </thead>\n",
       "  <tbody>\n",
       "    <tr>\n",
       "      <th>1291</th>\n",
       "      <td>Դա հնավոր էր անել համավարակի առկայության պայմա...</td>\n",
       "      <td>neutral</td>\n",
       "    </tr>\n",
       "    <tr>\n",
       "      <th>135</th>\n",
       "      <td>Had a meeting with @morton_wendy today, where ...</td>\n",
       "      <td>neutral</td>\n",
       "    </tr>\n",
       "    <tr>\n",
       "      <th>88</th>\n",
       "      <td>Why AZ is punishing 120K people of NK, includi...</td>\n",
       "      <td>positive</td>\n",
       "    </tr>\n",
       "    <tr>\n",
       "      <th>626</th>\n",
       "      <td>We welcome the statement of @ExtSpoxEU! Detent...</td>\n",
       "      <td>positive</td>\n",
       "    </tr>\n",
       "    <tr>\n",
       "      <th>447</th>\n",
       "      <td>On July 29, starting from 11:00 pm, the air de...</td>\n",
       "      <td>neutral</td>\n",
       "    </tr>\n",
       "  </tbody>\n",
       "</table>\n",
       "</div>"
      ],
      "text/plain": [
       "                                                 Tweets     label\n",
       "1291  Դա հնավոր էր անել համավարակի առկայության պայմա...   neutral\n",
       "135   Had a meeting with @morton_wendy today, where ...   neutral\n",
       "88    Why AZ is punishing 120K people of NK, includi...  positive\n",
       "626   We welcome the statement of @ExtSpoxEU! Detent...  positive\n",
       "447   On July 29, starting from 11:00 pm, the air de...   neutral"
      ]
     },
     "execution_count": 19,
     "metadata": {},
     "output_type": "execute_result"
    }
   ],
   "source": [
    "train = train[['Tweets','label']]\n",
    "train.head()"
   ]
  },
  {
   "cell_type": "code",
   "execution_count": 20,
   "id": "66ee3180",
   "metadata": {},
   "outputs": [
    {
     "data": {
      "text/plain": [
       "0"
      ]
     },
     "execution_count": 20,
     "metadata": {},
     "output_type": "execute_result"
    }
   ],
   "source": [
    "train[\"Tweets\"].isnull().sum()"
   ]
  },
  {
   "cell_type": "code",
   "execution_count": 21,
   "id": "8a06faa7",
   "metadata": {},
   "outputs": [],
   "source": [
    "def depure_data(data):\n",
    "    \n",
    "    #Removing URLs with a regular expression\n",
    "    url_pattern = re.compile(r'https?://\\S+|www\\.\\S+')\n",
    "    data = url_pattern.sub(r'', data)\n",
    "\n",
    "    # Remove Emails\n",
    "    data = re.sub('\\S*@\\S*\\s?', '', data)\n",
    "\n",
    "    # Remove new line characters\n",
    "    data = re.sub('\\s+', ' ', data)\n",
    "\n",
    "    # Remove distracting single quotes\n",
    "    data = re.sub(\"\\'\", \"\", data)\n",
    "        \n",
    "    return data"
   ]
  },
  {
   "cell_type": "code",
   "execution_count": 22,
   "id": "416fd6d8",
   "metadata": {},
   "outputs": [
    {
     "data": {
      "text/plain": [
       "['Դա հնավոր էր անել համավարակի առկայության պայմաններում և նույնիսկ պարտադիր էր, քանի որ մենք ամեն օր չենք նշում Անկախության հռչակագրի 30-ամյակը։ Ինչևիցե... շնորհավորում եմ բոլորիս, ինչպես հայաստանցիներին, այնպես էլ աշխարհասփյուռ հայությանը այս բացառիկ տոնի առթիվ։',\n",
       " 'Had a meeting with today, where I mentioned that none of the global powers can stay indifferent to the issue of the immediate return of #Armenian prisoners of war from #Azerbaijan. ://t.co/Htd6IBeWlY',\n",
       " 'Why AZ is punishing 120K people of NK, including 30K children? I insist that AZ is doing this to NK for its democratic choice, which sustains for 30 years already. Today NK has no gas and totally blocked. NK Armenians are waiting for the reaction &amp; real steps from int. community. ://t.co/QBFjOtUXI3',\n",
       " 'We welcome the statement of Detention of Armenian POWs by Azerbaijan is a war crime! We demand the immediate release of Armenian prisoners of war and civilians held captive in Azerbaijan, as well as special attention of the international community to this issue.',\n",
       " 'On July 29, starting from 11:00 pm, the air defence units of the RA Armed Forces suspended attempts of UAVs to enter the airspace of the Republic of #Armenia on the #Gegharkunik region of the #Armenian-#Azerbaijani border. ']"
      ]
     },
     "execution_count": 22,
     "metadata": {},
     "output_type": "execute_result"
    }
   ],
   "source": [
    "temp = []\n",
    "#Splitting pd.Series to list\n",
    "data_to_list = train['Tweets'].values.tolist()\n",
    "for i in range(len(data_to_list)):\n",
    "    temp.append(depure_data(data_to_list[i]))\n",
    "list(temp[:5])"
   ]
  },
  {
   "cell_type": "code",
   "execution_count": 23,
   "id": "5c615218",
   "metadata": {},
   "outputs": [
    {
     "name": "stdout",
     "output_type": "stream",
     "text": [
      "[['դա', 'հնավոր', 'էր', 'անել', 'համավարակի', 'առկայության', 'պայմաններում', 'նույնիսկ', 'պարտադիր', 'էր', 'քանի', 'որ', 'մենք', 'ամեն', 'օր', 'չենք', 'նշում', 'անկախության', 'հռչակագրի', 'ամյակը', 'ինչևիցե', 'շնորհավորում', 'եմ', 'բոլորիս', 'ինչպես', 'հայաստանցիներին', 'այնպես', 'էլ', 'աշխարհասփյուռ', 'հայությանը', 'այս', 'բացառիկ', 'տոնի', 'առթիվ'], ['had', 'meeting', 'with', 'today', 'where', 'mentioned', 'that', 'none', 'of', 'the', 'global', 'powers', 'can', 'stay', 'indifferent', 'to', 'the', 'issue', 'of', 'the', 'immediate', 'return', 'of', 'armenian', 'prisoners', 'of', 'war', 'from', 'azerbaijan', 'co', 'htd', 'ibewly'], ['why', 'az', 'is', 'punishing', 'people', 'of', 'nk', 'including', 'children', 'insist', 'that', 'az', 'is', 'doing', 'this', 'to', 'nk', 'for', 'its', 'democratic', 'choice', 'which', 'sustains', 'for', 'years', 'already', 'today', 'nk', 'has', 'no', 'gas', 'and', 'totally', 'blocked', 'nk', 'armenians', 'are', 'waiting', 'for', 'the', 'reaction', 'amp', 'real', 'steps', 'from', 'int', 'community', 'co', 'qbfjotuxi'], ['we', 'welcome', 'the', 'statement', 'of', 'detention', 'of', 'armenian', 'pows', 'by', 'azerbaijan', 'is', 'war', 'crime', 'we', 'demand', 'the', 'immediate', 'release', 'of', 'armenian', 'prisoners', 'of', 'war', 'and', 'civilians', 'held', 'captive', 'in', 'azerbaijan', 'as', 'well', 'as', 'special', 'attention', 'of', 'the', 'international', 'community', 'to', 'this', 'issue'], ['on', 'july', 'starting', 'from', 'pm', 'the', 'air', 'defence', 'units', 'of', 'the', 'ra', 'armed', 'forces', 'suspended', 'attempts', 'of', 'uavs', 'to', 'enter', 'the', 'airspace', 'of', 'the', 'republic', 'of', 'armenia', 'on', 'the', 'gegharkunik', 'region', 'of', 'the', 'armenian', 'azerbaijani', 'border'], ['we', 'request', 'your', 'immediate', 'intervention', 'to', 'ensure', 'the', 'protection', 'of', 'the', 'rights', 'of', 'armenian', 'prisoners', 'of', 'war', 'to', 'prevent', 'the', 'perpetration', 'of', 'another', 'war', 'crime', 'by', 'the', 'azerbaijani', 'authorities', 'co', 'ahxzt', 'xbo'], ['good', 'news', 'from', 'armenia', 'the', 'first', 'patient', 'diagnosed', 'with', 'covid', 'has', 'recovered'], ['my', 'last', 'interview', 'to', 'news', 'co', 'jofnfb'], ['welcomed', 'my', 'colleague', 'sg', 'of', 'in', 'yerevan', 'we', 'had', 'productive', 'discussions', 'on', 'our', 'armenia', 'coe', 'coop', 'for', 'strengthening', 'democratic', 'institutions', 'human', 'rights', 'amp', 'rule', 'of', 'law', 'in', 'armenia', 'reiterated', 'that', 'path', 'of', 'democratic', 'development', 'is', 'irreversible', 'in', 'our', 'country', 'co', 'znx', 'uoeahu'], ['in', 'particular', 'having', 'regard', 'to', 'the', 'diverse', 'assistance', 'of', 'turkey', 'to', 'the', 'azerbaijani', 'attacks', 'against', 'the', 'civilian', 'population', 'amp', 'objects', 'of', 'arstakh', 'and', 'armenia', 'in', 'the', 'gross', 'violation', 'of', 'international', 'humanitarian', 'law', 'amp', 'the', 'european', 'convention', 'on', 'human', 'rights']]\n"
     ]
    }
   ],
   "source": [
    "def sent_to_words(sentences):\n",
    "    for sentence in sentences:\n",
    "        yield(gensim.utils.simple_preprocess(str(sentence), deacc=True))  # deacc=True removes punctuations\n",
    "        \n",
    "\n",
    "data_words = list(sent_to_words(temp))\n",
    "\n",
    "print(data_words[:10])"
   ]
  },
  {
   "cell_type": "code",
   "execution_count": 25,
   "id": "0ddddd94",
   "metadata": {},
   "outputs": [
    {
     "data": {
      "text/plain": [
       "2164"
      ]
     },
     "execution_count": 25,
     "metadata": {},
     "output_type": "execute_result"
    }
   ],
   "source": [
    "len(data_words)"
   ]
  },
  {
   "cell_type": "code",
   "execution_count": 26,
   "id": "162e020e",
   "metadata": {},
   "outputs": [],
   "source": [
    "def detokenize(text):\n",
    "    return TreebankWordDetokenizer().detokenize(text)"
   ]
  },
  {
   "cell_type": "code",
   "execution_count": 27,
   "id": "8793cb25",
   "metadata": {},
   "outputs": [
    {
     "name": "stdout",
     "output_type": "stream",
     "text": [
      "['դա հնավոր էր անել համավարակի առկայության պայմաններում նույնիսկ պարտադիր էր քանի որ մենք ամեն օր չենք նշում անկախության հռչակագրի ամյակը ինչևիցե շնորհավորում եմ բոլորիս ինչպես հայաստանցիներին այնպես էլ աշխարհասփյուռ հայությանը այս բացառիկ տոնի առթիվ', 'had meeting with today where mentioned that none of the global powers can stay indifferent to the issue of the immediate return of armenian prisoners of war from azerbaijan co htd ibewly', 'why az is punishing people of nk including children insist that az is doing this to nk for its democratic choice which sustains for years already today nk has no gas and totally blocked nk armenians are waiting for the reaction amp real steps from int community co qbfjotuxi', 'we welcome the statement of detention of armenian pows by azerbaijan is war crime we demand the immediate release of armenian prisoners of war and civilians held captive in azerbaijan as well as special attention of the international community to this issue', 'on july starting from pm the air defence units of the ra armed forces suspended attempts of uavs to enter the airspace of the republic of armenia on the gegharkunik region of the armenian azerbaijani border']\n"
     ]
    }
   ],
   "source": [
    "data = []\n",
    "for i in range(len(data_words)):\n",
    "    data.append(detokenize(data_words[i]))\n",
    "print(data[:5])"
   ]
  },
  {
   "cell_type": "code",
   "execution_count": 28,
   "id": "e6b4f170",
   "metadata": {},
   "outputs": [],
   "source": [
    "data = np.array(data)"
   ]
  },
  {
   "cell_type": "code",
   "execution_count": 34,
   "id": "410b8497",
   "metadata": {},
   "outputs": [],
   "source": [
    "labels = np.array(train['label'])\n",
    "y = []\n",
    "for i in range(len(labels)):\n",
    "    if labels[i] == 'neutral':\n",
    "        y.append(0)\n",
    "    if labels[i] == 'negative':\n",
    "        y.append(1)\n",
    "    if labels[i] == 'positive':\n",
    "        y.append(2)\n",
    "y = np.array(y)\n",
    "labels = tf.keras.utils.to_categorical(y, 3, dtype=\"float32\")\n",
    "del y"
   ]
  },
  {
   "cell_type": "code",
   "execution_count": 35,
   "id": "4d31ecca",
   "metadata": {},
   "outputs": [
    {
     "data": {
      "text/plain": [
       "2164"
      ]
     },
     "execution_count": 35,
     "metadata": {},
     "output_type": "execute_result"
    }
   ],
   "source": [
    "len(labels)"
   ]
  },
  {
   "cell_type": "code",
   "execution_count": null,
   "id": "03b7452f",
   "metadata": {},
   "outputs": [],
   "source": []
  },
  {
   "cell_type": "markdown",
   "id": "baa5870f",
   "metadata": {},
   "source": [
    "## Data sequencing and splitting"
   ]
  },
  {
   "cell_type": "code",
   "execution_count": 39,
   "id": "56d1a577",
   "metadata": {},
   "outputs": [
    {
     "name": "stdout",
     "output_type": "stream",
     "text": [
      "[[   0    0    0 ... 1537 2795 1538]\n",
      " [   0    0    0 ...    4 4545 4546]\n",
      " [   0    0    0 ...   54    4 4550]\n",
      " ...\n",
      " [   0    0    0 ...   76  466    4]\n",
      " [   0    0    0 ...  357  517  794]\n",
      " [   0    0    0 ...  456    4 4524]]\n"
     ]
    }
   ],
   "source": [
    "from keras.models import Sequential\n",
    "from keras import layers\n",
    "from keras.optimizers import RMSprop,Adam\n",
    "from keras.preprocessing.text import Tokenizer\n",
    "from tensorflow.keras.preprocessing.sequence import pad_sequences\n",
    "from keras import regularizers\n",
    "from keras import backend as K\n",
    "from keras.callbacks import ModelCheckpoint\n",
    "max_words = 5000\n",
    "max_len = 200\n",
    "\n",
    "tokenizer = Tokenizer(num_words=max_words)\n",
    "tokenizer.fit_on_texts(data)\n",
    "sequences = tokenizer.texts_to_sequences(data)\n",
    "tweets = pad_sequences(sequences, maxlen=max_len)\n",
    "print(tweets)"
   ]
  },
  {
   "cell_type": "code",
   "execution_count": 40,
   "id": "8bbd8f3d",
   "metadata": {},
   "outputs": [
    {
     "name": "stdout",
     "output_type": "stream",
     "text": [
      "[[1. 0. 0.]\n",
      " [1. 0. 0.]\n",
      " [0. 0. 1.]\n",
      " ...\n",
      " [0. 0. 1.]\n",
      " [1. 0. 0.]\n",
      " [0. 0. 1.]]\n"
     ]
    }
   ],
   "source": [
    "print(labels)"
   ]
  },
  {
   "cell_type": "code",
   "execution_count": 41,
   "id": "9de75e1b",
   "metadata": {},
   "outputs": [
    {
     "name": "stdout",
     "output_type": "stream",
     "text": [
      "1623 541 1623 541\n"
     ]
    }
   ],
   "source": [
    "X_train, X_test, y_train, y_test = train_test_split(tweets,labels, random_state=0)\n",
    "print (len(X_train),len(X_test),len(y_train),len(y_test))"
   ]
  },
  {
   "cell_type": "code",
   "execution_count": null,
   "id": "01bcc005",
   "metadata": {},
   "outputs": [],
   "source": []
  },
  {
   "cell_type": "markdown",
   "id": "8125b1f0",
   "metadata": {},
   "source": [
    "## Single LSTM layer model"
   ]
  },
  {
   "cell_type": "code",
   "execution_count": 42,
   "id": "9380a151",
   "metadata": {},
   "outputs": [
    {
     "name": "stdout",
     "output_type": "stream",
     "text": [
      "WARNING:tensorflow:`period` argument is deprecated. Please use `save_freq` to specify the frequency in number of batches seen.\n",
      "Epoch 1/70\n",
      "51/51 [==============================] - ETA: 0s - loss: 0.9202 - accuracy: 0.5662\n",
      "Epoch 1: val_accuracy improved from -inf to 0.55638, saving model to best_model1.hdf5\n",
      "51/51 [==============================] - 17s 206ms/step - loss: 0.9202 - accuracy: 0.5662 - val_loss: 0.8379 - val_accuracy: 0.5564\n",
      "Epoch 2/70\n",
      "51/51 [==============================] - ETA: 0s - loss: 0.7486 - accuracy: 0.6913\n",
      "Epoch 2: val_accuracy improved from 0.55638 to 0.73383, saving model to best_model1.hdf5\n",
      "51/51 [==============================] - 8s 154ms/step - loss: 0.7486 - accuracy: 0.6913 - val_loss: 0.7401 - val_accuracy: 0.7338\n",
      "Epoch 3/70\n",
      "51/51 [==============================] - ETA: 0s - loss: 0.6993 - accuracy: 0.7147\n",
      "Epoch 3: val_accuracy did not improve from 0.73383\n",
      "51/51 [==============================] - 8s 158ms/step - loss: 0.6993 - accuracy: 0.7147 - val_loss: 0.7448 - val_accuracy: 0.6969\n",
      "Epoch 4/70\n",
      "51/51 [==============================] - ETA: 0s - loss: 0.6584 - accuracy: 0.7277\n",
      "Epoch 4: val_accuracy improved from 0.73383 to 0.74492, saving model to best_model1.hdf5\n",
      "51/51 [==============================] - 8s 166ms/step - loss: 0.6584 - accuracy: 0.7277 - val_loss: 0.6757 - val_accuracy: 0.7449\n",
      "Epoch 5/70\n",
      "51/51 [==============================] - ETA: 0s - loss: 0.6182 - accuracy: 0.7535\n",
      "Epoch 5: val_accuracy improved from 0.74492 to 0.75231, saving model to best_model1.hdf5\n",
      "51/51 [==============================] - 10s 186ms/step - loss: 0.6182 - accuracy: 0.7535 - val_loss: 0.6547 - val_accuracy: 0.7523\n",
      "Epoch 6/70\n",
      "51/51 [==============================] - ETA: 0s - loss: 0.5626 - accuracy: 0.7733\n",
      "Epoch 6: val_accuracy did not improve from 0.75231\n",
      "51/51 [==============================] - 9s 181ms/step - loss: 0.5626 - accuracy: 0.7733 - val_loss: 0.6353 - val_accuracy: 0.7523\n",
      "Epoch 7/70\n",
      "51/51 [==============================] - ETA: 0s - loss: 0.5197 - accuracy: 0.7917\n",
      "Epoch 7: val_accuracy did not improve from 0.75231\n",
      "51/51 [==============================] - 8s 164ms/step - loss: 0.5197 - accuracy: 0.7917 - val_loss: 0.6486 - val_accuracy: 0.7486\n",
      "Epoch 8/70\n",
      "51/51 [==============================] - ETA: 0s - loss: 0.4704 - accuracy: 0.8201\n",
      "Epoch 8: val_accuracy improved from 0.75231 to 0.75786, saving model to best_model1.hdf5\n",
      "51/51 [==============================] - 9s 171ms/step - loss: 0.4704 - accuracy: 0.8201 - val_loss: 0.6473 - val_accuracy: 0.7579\n",
      "Epoch 9/70\n",
      "51/51 [==============================] - ETA: 0s - loss: 0.4373 - accuracy: 0.8330\n",
      "Epoch 9: val_accuracy improved from 0.75786 to 0.76340, saving model to best_model1.hdf5\n",
      "51/51 [==============================] - 8s 155ms/step - loss: 0.4373 - accuracy: 0.8330 - val_loss: 0.6327 - val_accuracy: 0.7634\n",
      "Epoch 10/70\n",
      "51/51 [==============================] - ETA: 0s - loss: 0.4042 - accuracy: 0.8404\n",
      "Epoch 10: val_accuracy did not improve from 0.76340\n",
      "51/51 [==============================] - 9s 179ms/step - loss: 0.4042 - accuracy: 0.8404 - val_loss: 0.6550 - val_accuracy: 0.7486\n",
      "Epoch 11/70\n",
      "51/51 [==============================] - ETA: 0s - loss: 0.3679 - accuracy: 0.8497\n",
      "Epoch 11: val_accuracy improved from 0.76340 to 0.78004, saving model to best_model1.hdf5\n",
      "51/51 [==============================] - 9s 185ms/step - loss: 0.3679 - accuracy: 0.8497 - val_loss: 0.6031 - val_accuracy: 0.7800\n",
      "Epoch 12/70\n",
      "51/51 [==============================] - ETA: 0s - loss: 0.3641 - accuracy: 0.8534\n",
      "Epoch 12: val_accuracy did not improve from 0.78004\n",
      "51/51 [==============================] - 9s 173ms/step - loss: 0.3641 - accuracy: 0.8534 - val_loss: 0.6102 - val_accuracy: 0.7782\n",
      "Epoch 13/70\n",
      "51/51 [==============================] - ETA: 0s - loss: 0.3211 - accuracy: 0.8638\n",
      "Epoch 13: val_accuracy did not improve from 0.78004\n",
      "51/51 [==============================] - 9s 176ms/step - loss: 0.3211 - accuracy: 0.8638 - val_loss: 0.6313 - val_accuracy: 0.7800\n",
      "Epoch 14/70\n",
      "51/51 [==============================] - ETA: 0s - loss: 0.2898 - accuracy: 0.8694\n",
      "Epoch 14: val_accuracy did not improve from 0.78004\n",
      "51/51 [==============================] - 9s 180ms/step - loss: 0.2898 - accuracy: 0.8694 - val_loss: 0.6143 - val_accuracy: 0.7800\n",
      "Epoch 15/70\n",
      "51/51 [==============================] - ETA: 0s - loss: 0.2672 - accuracy: 0.8780\n",
      "Epoch 15: val_accuracy improved from 0.78004 to 0.79298, saving model to best_model1.hdf5\n",
      "51/51 [==============================] - 9s 171ms/step - loss: 0.2672 - accuracy: 0.8780 - val_loss: 0.6152 - val_accuracy: 0.7930\n",
      "Epoch 16/70\n",
      "51/51 [==============================] - ETA: 0s - loss: 0.2414 - accuracy: 0.8860\n",
      "Epoch 16: val_accuracy did not improve from 0.79298\n",
      "51/51 [==============================] - 9s 179ms/step - loss: 0.2414 - accuracy: 0.8860 - val_loss: 0.6170 - val_accuracy: 0.7708\n",
      "Epoch 17/70\n",
      "51/51 [==============================] - ETA: 0s - loss: 0.2202 - accuracy: 0.9051\n",
      "Epoch 17: val_accuracy did not improve from 0.79298\n",
      "51/51 [==============================] - 9s 169ms/step - loss: 0.2202 - accuracy: 0.9051 - val_loss: 0.6550 - val_accuracy: 0.7893\n",
      "Epoch 18/70\n",
      "51/51 [==============================] - ETA: 0s - loss: 0.2000 - accuracy: 0.9125\n",
      "Epoch 18: val_accuracy did not improve from 0.79298\n",
      "51/51 [==============================] - 9s 172ms/step - loss: 0.2000 - accuracy: 0.9125 - val_loss: 0.6587 - val_accuracy: 0.7616\n",
      "Epoch 19/70\n",
      "51/51 [==============================] - ETA: 0s - loss: 0.1892 - accuracy: 0.9254\n",
      "Epoch 19: val_accuracy did not improve from 0.79298\n",
      "51/51 [==============================] - 8s 153ms/step - loss: 0.1892 - accuracy: 0.9254 - val_loss: 0.6477 - val_accuracy: 0.7800\n",
      "Epoch 20/70\n",
      "51/51 [==============================] - ETA: 0s - loss: 0.1616 - accuracy: 0.9489\n",
      "Epoch 20: val_accuracy did not improve from 0.79298\n",
      "51/51 [==============================] - 9s 187ms/step - loss: 0.1616 - accuracy: 0.9489 - val_loss: 0.7476 - val_accuracy: 0.7800\n",
      "Epoch 21/70\n",
      "51/51 [==============================] - ETA: 0s - loss: 0.1563 - accuracy: 0.9556\n",
      "Epoch 21: val_accuracy did not improve from 0.79298\n",
      "51/51 [==============================] - 10s 192ms/step - loss: 0.1563 - accuracy: 0.9556 - val_loss: 0.6996 - val_accuracy: 0.7856\n",
      "Epoch 22/70\n",
      "51/51 [==============================] - ETA: 0s - loss: 0.1312 - accuracy: 0.9587\n",
      "Epoch 22: val_accuracy did not improve from 0.79298\n",
      "51/51 [==============================] - 10s 188ms/step - loss: 0.1312 - accuracy: 0.9587 - val_loss: 0.7373 - val_accuracy: 0.7782\n",
      "Epoch 23/70\n",
      "51/51 [==============================] - ETA: 0s - loss: 0.1226 - accuracy: 0.9606\n",
      "Epoch 23: val_accuracy did not improve from 0.79298\n",
      "51/51 [==============================] - 9s 180ms/step - loss: 0.1226 - accuracy: 0.9606 - val_loss: 0.6879 - val_accuracy: 0.7745\n",
      "Epoch 24/70\n",
      "51/51 [==============================] - ETA: 0s - loss: 0.1166 - accuracy: 0.9680\n",
      "Epoch 24: val_accuracy did not improve from 0.79298\n",
      "51/51 [==============================] - 10s 194ms/step - loss: 0.1166 - accuracy: 0.9680 - val_loss: 0.7064 - val_accuracy: 0.7911\n",
      "Epoch 25/70\n",
      "51/51 [==============================] - ETA: 0s - loss: 0.1007 - accuracy: 0.9661\n",
      "Epoch 25: val_accuracy did not improve from 0.79298\n",
      "51/51 [==============================] - 10s 187ms/step - loss: 0.1007 - accuracy: 0.9661 - val_loss: 0.7571 - val_accuracy: 0.7911\n",
      "Epoch 26/70\n",
      "51/51 [==============================] - ETA: 0s - loss: 0.0888 - accuracy: 0.9772\n",
      "Epoch 26: val_accuracy did not improve from 0.79298\n",
      "51/51 [==============================] - 10s 190ms/step - loss: 0.0888 - accuracy: 0.9772 - val_loss: 0.7836 - val_accuracy: 0.7856\n",
      "Epoch 27/70\n",
      "51/51 [==============================] - ETA: 0s - loss: 0.0849 - accuracy: 0.9735\n",
      "Epoch 27: val_accuracy did not improve from 0.79298\n",
      "51/51 [==============================] - 9s 170ms/step - loss: 0.0849 - accuracy: 0.9735 - val_loss: 0.7567 - val_accuracy: 0.7819\n",
      "Epoch 28/70\n",
      "51/51 [==============================] - ETA: 0s - loss: 0.0726 - accuracy: 0.9791\n",
      "Epoch 28: val_accuracy did not improve from 0.79298\n",
      "51/51 [==============================] - 9s 182ms/step - loss: 0.0726 - accuracy: 0.9791 - val_loss: 0.7818 - val_accuracy: 0.7837\n",
      "Epoch 29/70\n",
      "51/51 [==============================] - ETA: 0s - loss: 0.0602 - accuracy: 0.9877\n",
      "Epoch 29: val_accuracy improved from 0.79298 to 0.79482, saving model to best_model1.hdf5\n",
      "51/51 [==============================] - 10s 194ms/step - loss: 0.0602 - accuracy: 0.9877 - val_loss: 0.7704 - val_accuracy: 0.7948\n",
      "Epoch 30/70\n",
      "51/51 [==============================] - ETA: 0s - loss: 0.0488 - accuracy: 0.9877\n",
      "Epoch 30: val_accuracy did not improve from 0.79482\n",
      "51/51 [==============================] - 9s 170ms/step - loss: 0.0488 - accuracy: 0.9877 - val_loss: 0.7958 - val_accuracy: 0.7763\n",
      "Epoch 31/70\n",
      "51/51 [==============================] - ETA: 0s - loss: 0.0432 - accuracy: 0.9871\n",
      "Epoch 31: val_accuracy did not improve from 0.79482\n",
      "51/51 [==============================] - 9s 181ms/step - loss: 0.0432 - accuracy: 0.9871 - val_loss: 0.8167 - val_accuracy: 0.7837\n",
      "Epoch 32/70\n",
      "51/51 [==============================] - ETA: 0s - loss: 0.0488 - accuracy: 0.9864\n",
      "Epoch 32: val_accuracy did not improve from 0.79482\n",
      "51/51 [==============================] - 9s 176ms/step - loss: 0.0488 - accuracy: 0.9864 - val_loss: 0.8067 - val_accuracy: 0.7726\n",
      "Epoch 33/70\n",
      "51/51 [==============================] - ETA: 0s - loss: 0.0365 - accuracy: 0.9895\n",
      "Epoch 33: val_accuracy did not improve from 0.79482\n",
      "51/51 [==============================] - 9s 183ms/step - loss: 0.0365 - accuracy: 0.9895 - val_loss: 0.8663 - val_accuracy: 0.7856\n",
      "Epoch 34/70\n",
      "51/51 [==============================] - ETA: 0s - loss: 0.0326 - accuracy: 0.9908\n",
      "Epoch 34: val_accuracy improved from 0.79482 to 0.80037, saving model to best_model1.hdf5\n",
      "51/51 [==============================] - 9s 183ms/step - loss: 0.0326 - accuracy: 0.9908 - val_loss: 0.9022 - val_accuracy: 0.8004\n",
      "Epoch 35/70\n",
      "51/51 [==============================] - ETA: 0s - loss: 0.1684 - accuracy: 0.9600\n",
      "Epoch 35: val_accuracy did not improve from 0.80037\n",
      "51/51 [==============================] - 8s 162ms/step - loss: 0.1684 - accuracy: 0.9600 - val_loss: 0.8592 - val_accuracy: 0.7985\n",
      "Epoch 36/70\n",
      "51/51 [==============================] - ETA: 0s - loss: 0.0330 - accuracy: 0.9908\n",
      "Epoch 36: val_accuracy did not improve from 0.80037\n",
      "51/51 [==============================] - 9s 174ms/step - loss: 0.0330 - accuracy: 0.9908 - val_loss: 0.8850 - val_accuracy: 0.7856\n",
      "Epoch 37/70\n",
      "51/51 [==============================] - ETA: 0s - loss: 0.0208 - accuracy: 0.9945\n",
      "Epoch 37: val_accuracy did not improve from 0.80037\n",
      "51/51 [==============================] - 9s 181ms/step - loss: 0.0208 - accuracy: 0.9945 - val_loss: 0.8888 - val_accuracy: 0.7819\n",
      "Epoch 38/70\n",
      "51/51 [==============================] - ETA: 0s - loss: 0.0291 - accuracy: 0.9908\n",
      "Epoch 38: val_accuracy did not improve from 0.80037\n",
      "51/51 [==============================] - 9s 180ms/step - loss: 0.0291 - accuracy: 0.9908 - val_loss: 0.9479 - val_accuracy: 0.7930\n",
      "Epoch 39/70\n",
      "51/51 [==============================] - ETA: 0s - loss: 0.0220 - accuracy: 0.9926\n",
      "Epoch 39: val_accuracy did not improve from 0.80037\n",
      "51/51 [==============================] - 9s 184ms/step - loss: 0.0220 - accuracy: 0.9926 - val_loss: 0.9753 - val_accuracy: 0.7893\n",
      "Epoch 40/70\n",
      "51/51 [==============================] - ETA: 0s - loss: 0.0223 - accuracy: 0.9920\n",
      "Epoch 40: val_accuracy did not improve from 0.80037\n",
      "51/51 [==============================] - 9s 177ms/step - loss: 0.0223 - accuracy: 0.9920 - val_loss: 0.9677 - val_accuracy: 0.7745\n",
      "Epoch 41/70\n",
      "51/51 [==============================] - ETA: 0s - loss: 0.0183 - accuracy: 0.9963\n",
      "Epoch 41: val_accuracy did not improve from 0.80037\n",
      "51/51 [==============================] - 9s 184ms/step - loss: 0.0183 - accuracy: 0.9963 - val_loss: 0.9927 - val_accuracy: 0.7911\n",
      "Epoch 42/70\n",
      "51/51 [==============================] - ETA: 0s - loss: 0.0219 - accuracy: 0.9914\n",
      "Epoch 42: val_accuracy did not improve from 0.80037\n",
      "51/51 [==============================] - 9s 181ms/step - loss: 0.0219 - accuracy: 0.9914 - val_loss: 1.0146 - val_accuracy: 0.7893\n",
      "Epoch 43/70\n",
      "51/51 [==============================] - ETA: 0s - loss: 0.0226 - accuracy: 0.9945\n",
      "Epoch 43: val_accuracy did not improve from 0.80037\n",
      "51/51 [==============================] - 9s 176ms/step - loss: 0.0226 - accuracy: 0.9945 - val_loss: 0.9904 - val_accuracy: 0.7856\n",
      "Epoch 44/70\n",
      "51/51 [==============================] - ETA: 0s - loss: 0.0110 - accuracy: 0.9975\n",
      "Epoch 44: val_accuracy did not improve from 0.80037\n",
      "51/51 [==============================] - 9s 184ms/step - loss: 0.0110 - accuracy: 0.9975 - val_loss: 1.0674 - val_accuracy: 0.7911\n",
      "Epoch 45/70\n",
      "51/51 [==============================] - ETA: 0s - loss: 0.0197 - accuracy: 0.9951\n",
      "Epoch 45: val_accuracy did not improve from 0.80037\n",
      "51/51 [==============================] - 9s 181ms/step - loss: 0.0197 - accuracy: 0.9951 - val_loss: 1.0450 - val_accuracy: 0.7930\n",
      "Epoch 46/70\n",
      "51/51 [==============================] - ETA: 0s - loss: 0.0105 - accuracy: 0.9975\n",
      "Epoch 46: val_accuracy did not improve from 0.80037\n",
      "51/51 [==============================] - 9s 185ms/step - loss: 0.0105 - accuracy: 0.9975 - val_loss: 1.0264 - val_accuracy: 0.7874\n",
      "Epoch 47/70\n",
      "51/51 [==============================] - ETA: 0s - loss: 0.0105 - accuracy: 0.9975\n",
      "Epoch 47: val_accuracy did not improve from 0.80037\n",
      "51/51 [==============================] - 9s 177ms/step - loss: 0.0105 - accuracy: 0.9975 - val_loss: 1.1262 - val_accuracy: 0.7893\n",
      "Epoch 48/70\n",
      "51/51 [==============================] - ETA: 0s - loss: 0.0184 - accuracy: 0.9969\n",
      "Epoch 48: val_accuracy did not improve from 0.80037\n",
      "51/51 [==============================] - 10s 188ms/step - loss: 0.0184 - accuracy: 0.9969 - val_loss: 1.0643 - val_accuracy: 0.7948\n",
      "Epoch 49/70\n",
      "51/51 [==============================] - ETA: 0s - loss: 0.0099 - accuracy: 0.9969\n",
      "Epoch 49: val_accuracy did not improve from 0.80037\n",
      "51/51 [==============================] - 9s 179ms/step - loss: 0.0099 - accuracy: 0.9969 - val_loss: 1.0498 - val_accuracy: 0.7930\n",
      "Epoch 50/70\n",
      "51/51 [==============================] - ETA: 0s - loss: 0.0052 - accuracy: 0.9994\n",
      "Epoch 50: val_accuracy did not improve from 0.80037\n",
      "51/51 [==============================] - 9s 178ms/step - loss: 0.0052 - accuracy: 0.9994 - val_loss: 1.1531 - val_accuracy: 0.7837\n",
      "Epoch 51/70\n",
      "51/51 [==============================] - ETA: 0s - loss: 0.0072 - accuracy: 0.9982\n",
      "Epoch 51: val_accuracy did not improve from 0.80037\n",
      "51/51 [==============================] - 9s 177ms/step - loss: 0.0072 - accuracy: 0.9982 - val_loss: 1.0898 - val_accuracy: 0.7893\n",
      "Epoch 52/70\n",
      "51/51 [==============================] - ETA: 0s - loss: 0.0089 - accuracy: 0.9975\n",
      "Epoch 52: val_accuracy did not improve from 0.80037\n",
      "51/51 [==============================] - 10s 188ms/step - loss: 0.0089 - accuracy: 0.9975 - val_loss: 1.2263 - val_accuracy: 0.7856\n",
      "Epoch 53/70\n",
      "51/51 [==============================] - ETA: 0s - loss: 0.0064 - accuracy: 0.9988\n",
      "Epoch 53: val_accuracy did not improve from 0.80037\n",
      "51/51 [==============================] - 9s 169ms/step - loss: 0.0064 - accuracy: 0.9988 - val_loss: 1.1130 - val_accuracy: 0.7856\n",
      "Epoch 54/70\n",
      "51/51 [==============================] - ETA: 0s - loss: 0.0081 - accuracy: 0.9982\n",
      "Epoch 54: val_accuracy did not improve from 0.80037\n",
      "51/51 [==============================] - 9s 185ms/step - loss: 0.0081 - accuracy: 0.9982 - val_loss: 1.1726 - val_accuracy: 0.7967\n",
      "Epoch 55/70\n",
      "51/51 [==============================] - ETA: 0s - loss: 0.0074 - accuracy: 0.9969\n",
      "Epoch 55: val_accuracy did not improve from 0.80037\n",
      "51/51 [==============================] - 10s 190ms/step - loss: 0.0074 - accuracy: 0.9969 - val_loss: 1.1369 - val_accuracy: 0.7911\n",
      "Epoch 56/70\n",
      "51/51 [==============================] - ETA: 0s - loss: 0.0129 - accuracy: 0.9963\n",
      "Epoch 56: val_accuracy did not improve from 0.80037\n",
      "51/51 [==============================] - 9s 185ms/step - loss: 0.0129 - accuracy: 0.9963 - val_loss: 1.2711 - val_accuracy: 0.7911\n",
      "Epoch 57/70\n",
      "51/51 [==============================] - ETA: 0s - loss: 0.0028 - accuracy: 0.9994\n",
      "Epoch 57: val_accuracy did not improve from 0.80037\n",
      "51/51 [==============================] - 9s 172ms/step - loss: 0.0028 - accuracy: 0.9994 - val_loss: 1.2165 - val_accuracy: 0.7911\n",
      "Epoch 58/70\n",
      "51/51 [==============================] - ETA: 0s - loss: 0.0040 - accuracy: 0.9988\n",
      "Epoch 58: val_accuracy did not improve from 0.80037\n",
      "51/51 [==============================] - 9s 178ms/step - loss: 0.0040 - accuracy: 0.9988 - val_loss: 1.2430 - val_accuracy: 0.7911\n",
      "Epoch 59/70\n",
      "51/51 [==============================] - ETA: 0s - loss: 0.0075 - accuracy: 0.9969\n",
      "Epoch 59: val_accuracy did not improve from 0.80037\n",
      "51/51 [==============================] - 9s 176ms/step - loss: 0.0075 - accuracy: 0.9969 - val_loss: 1.2262 - val_accuracy: 0.7874\n",
      "Epoch 60/70\n",
      "51/51 [==============================] - ETA: 0s - loss: 0.0022 - accuracy: 1.0000\n",
      "Epoch 60: val_accuracy did not improve from 0.80037\n",
      "51/51 [==============================] - 9s 172ms/step - loss: 0.0022 - accuracy: 1.0000 - val_loss: 1.3199 - val_accuracy: 0.7967\n",
      "Epoch 61/70\n",
      "51/51 [==============================] - ETA: 0s - loss: 0.0077 - accuracy: 0.9975\n",
      "Epoch 61: val_accuracy did not improve from 0.80037\n",
      "51/51 [==============================] - 9s 176ms/step - loss: 0.0077 - accuracy: 0.9975 - val_loss: 1.2345 - val_accuracy: 0.7911\n",
      "Epoch 62/70\n",
      "51/51 [==============================] - ETA: 0s - loss: 0.0073 - accuracy: 0.9969\n",
      "Epoch 62: val_accuracy did not improve from 0.80037\n",
      "51/51 [==============================] - 9s 182ms/step - loss: 0.0073 - accuracy: 0.9969 - val_loss: 1.2039 - val_accuracy: 0.7874\n",
      "Epoch 63/70\n",
      "51/51 [==============================] - ETA: 0s - loss: 0.0033 - accuracy: 0.9994\n",
      "Epoch 63: val_accuracy did not improve from 0.80037\n",
      "51/51 [==============================] - 9s 180ms/step - loss: 0.0033 - accuracy: 0.9994 - val_loss: 1.1979 - val_accuracy: 0.7893\n",
      "Epoch 64/70\n",
      "51/51 [==============================] - ETA: 0s - loss: 0.0048 - accuracy: 0.9982\n",
      "Epoch 64: val_accuracy did not improve from 0.80037\n",
      "51/51 [==============================] - 9s 178ms/step - loss: 0.0048 - accuracy: 0.9982 - val_loss: 1.2931 - val_accuracy: 0.7930\n",
      "Epoch 65/70\n",
      "51/51 [==============================] - ETA: 0s - loss: 0.0037 - accuracy: 0.9988\n",
      "Epoch 65: val_accuracy did not improve from 0.80037\n",
      "51/51 [==============================] - 8s 165ms/step - loss: 0.0037 - accuracy: 0.9988 - val_loss: 1.2796 - val_accuracy: 0.7930\n",
      "Epoch 66/70\n",
      "51/51 [==============================] - ETA: 0s - loss: 0.0045 - accuracy: 0.9982\n",
      "Epoch 66: val_accuracy did not improve from 0.80037\n",
      "51/51 [==============================] - 8s 149ms/step - loss: 0.0045 - accuracy: 0.9982 - val_loss: 1.3443 - val_accuracy: 0.7911\n",
      "Epoch 67/70\n",
      "51/51 [==============================] - ETA: 0s - loss: 0.0055 - accuracy: 0.9982\n",
      "Epoch 67: val_accuracy did not improve from 0.80037\n",
      "51/51 [==============================] - 8s 149ms/step - loss: 0.0055 - accuracy: 0.9982 - val_loss: 1.2906 - val_accuracy: 0.7948\n",
      "Epoch 68/70\n",
      "51/51 [==============================] - ETA: 0s - loss: 0.0039 - accuracy: 0.9994\n",
      "Epoch 68: val_accuracy did not improve from 0.80037\n",
      "51/51 [==============================] - 7s 145ms/step - loss: 0.0039 - accuracy: 0.9994 - val_loss: 1.2552 - val_accuracy: 0.7911\n",
      "Epoch 69/70\n",
      "51/51 [==============================] - ETA: 0s - loss: 0.0027 - accuracy: 0.9988\n",
      "Epoch 69: val_accuracy did not improve from 0.80037\n",
      "51/51 [==============================] - 8s 147ms/step - loss: 0.0027 - accuracy: 0.9988 - val_loss: 1.3233 - val_accuracy: 0.7911\n",
      "Epoch 70/70\n",
      "51/51 [==============================] - ETA: 0s - loss: 0.0189 - accuracy: 0.9951\n",
      "Epoch 70: val_accuracy did not improve from 0.80037\n",
      "51/51 [==============================] - 8s 151ms/step - loss: 0.0189 - accuracy: 0.9951 - val_loss: 1.2194 - val_accuracy: 0.7800\n"
     ]
    }
   ],
   "source": [
    "model1 = Sequential()\n",
    "model1.add(layers.Embedding(max_words, 20))\n",
    "model1.add(layers.LSTM(15,dropout=0.5))\n",
    "model1.add(layers.Dense(3,activation='softmax'))\n",
    "\n",
    "\n",
    "model1.compile(optimizer='rmsprop',loss='categorical_crossentropy', metrics=['accuracy'])\n",
    "#Implementing model checkpoins to save the best metric and do not lose it on training.\n",
    "checkpoint1 = ModelCheckpoint(\"best_model1.hdf5\", monitor='val_accuracy', verbose=1,save_best_only=True, mode='auto', period=1,save_weights_only=False)\n",
    "history = model1.fit(X_train, y_train, epochs=70,validation_data=(X_test, y_test),callbacks=[checkpoint1])"
   ]
  },
  {
   "cell_type": "code",
   "execution_count": null,
   "id": "b4788b67",
   "metadata": {},
   "outputs": [],
   "source": []
  },
  {
   "cell_type": "markdown",
   "id": "711b1e80",
   "metadata": {},
   "source": [
    "## Bidirectional LSTM model"
   ]
  },
  {
   "cell_type": "code",
   "execution_count": null,
   "id": "27ebaaa5",
   "metadata": {},
   "outputs": [],
   "source": []
  },
  {
   "cell_type": "code",
   "execution_count": null,
   "id": "fe15bbad",
   "metadata": {},
   "outputs": [],
   "source": []
  },
  {
   "cell_type": "code",
   "execution_count": null,
   "id": "7f5b78b7",
   "metadata": {},
   "outputs": [],
   "source": []
  },
  {
   "cell_type": "code",
   "execution_count": null,
   "id": "742e0934",
   "metadata": {},
   "outputs": [],
   "source": []
  },
  {
   "cell_type": "code",
   "execution_count": null,
   "id": "9ddb2338",
   "metadata": {},
   "outputs": [],
   "source": []
  },
  {
   "cell_type": "code",
   "execution_count": null,
   "id": "64c15fb6",
   "metadata": {},
   "outputs": [],
   "source": []
  }
 ],
 "metadata": {
  "kernelspec": {
   "display_name": "Python 3",
   "language": "python",
   "name": "python3"
  },
  "language_info": {
   "codemirror_mode": {
    "name": "ipython",
    "version": 3
   },
   "file_extension": ".py",
   "mimetype": "text/x-python",
   "name": "python",
   "nbconvert_exporter": "python",
   "pygments_lexer": "ipython3",
   "version": "3.8.3"
  }
 },
 "nbformat": 4,
 "nbformat_minor": 5
}
